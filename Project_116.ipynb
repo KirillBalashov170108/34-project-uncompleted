{
  "nbformat": 4,
  "nbformat_minor": 0,
  "metadata": {
    "colab": {
      "name": "Project 116",
      "provenance": [],
      "authorship_tag": "ABX9TyP3C+lXfyVD/zocRr5scNbS",
      "include_colab_link": true
    },
    "kernelspec": {
      "name": "python3",
      "display_name": "Python 3"
    },
    "language_info": {
      "name": "python"
    }
  },
  "cells": [
    {
      "cell_type": "markdown",
      "metadata": {
        "id": "view-in-github",
        "colab_type": "text"
      },
      "source": [
        "<a href=\"https://colab.research.google.com/github/KirillBalashov170108/34-project-uncompleted/blob/main/Project_116.ipynb\" target=\"_parent\"><img src=\"https://colab.research.google.com/assets/colab-badge.svg\" alt=\"Open In Colab\"/></a>"
      ]
    },
    {
      "cell_type": "code",
      "execution_count": 1,
      "metadata": {
        "colab": {
          "resources": {
            "http://localhost:8080/nbextensions/google.colab/files.js": {
              "data": "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",
              "ok": true,
              "headers": [
                [
                  "content-type",
                  "application/javascript"
                ]
              ],
              "status": 200,
              "status_text": ""
            }
          },
          "base_uri": "https://localhost:8080/",
          "height": 129
        },
        "id": "9MhaOO42BH0V",
        "outputId": "6dd52721-4913-4380-a3e2-73c42676fdc6"
      },
      "outputs": [
        {
          "output_type": "display_data",
          "data": {
            "text/plain": [
              "<IPython.core.display.HTML object>"
            ],
            "text/html": [
              "\n",
              "     <input type=\"file\" id=\"files-8f1aa8a3-5b41-4356-980b-a0236a801c60\" name=\"files[]\" multiple disabled\n",
              "        style=\"border:none\" />\n",
              "     <output id=\"result-8f1aa8a3-5b41-4356-980b-a0236a801c60\">\n",
              "      Upload widget is only available when the cell has been executed in the\n",
              "      current browser session. Please rerun this cell to enable.\n",
              "      </output>\n",
              "      <script src=\"/nbextensions/google.colab/files.js\"></script> "
            ]
          },
          "metadata": {}
        },
        {
          "output_type": "stream",
          "name": "stdout",
          "text": [
            "Saving Admission_Predict.csv to Admission_Predict.csv\n"
          ]
        },
        {
          "output_type": "execute_result",
          "data": {
            "text/plain": [
              "{'Admission_Predict.csv': b'Serial No.,GRE Score,TOEFL Score,University Rating,SOP,LOR ,CGPA,Chance of admit\\n1,337,118,4,4.5,4.5,9.65,1\\n2,324,107,4,4,4.5,8.87,1\\n3,316,104,3,3,3.5,8,1\\n4,322,110,3,3.5,2.5,8.67,1\\n5,314,103,2,2,3,8.21,0\\n6,330,115,5,4.5,3,9.34,1\\n7,321,109,3,3,4,8.2,1\\n8,308,101,2,3,4,7.9,0\\n9,302,102,1,2,1.5,8,0\\n10,323,108,3,3.5,3,8.6,0\\n11,325,106,3,3.5,4,8.4,1\\n12,327,111,4,4,4.5,9,1\\n13,328,112,4,4,4.5,9.1,1\\n14,307,109,3,4,3,8,1\\n15,311,104,3,3.5,2,8.2,1\\n16,314,105,3,3.5,2.5,8.3,0\\n17,317,107,3,4,3,8.7,0\\n18,319,106,3,4,3,8,1\\n19,318,110,3,4,3,8.8,0\\n20,303,102,3,3.5,3,8.5,0\\n21,312,107,3,3,2,7.9,1\\n22,325,114,4,3,2,8.4,0\\n23,328,116,5,5,5,9.5,1\\n24,334,119,5,5,4.5,9.7,1\\n25,336,119,5,4,3.5,9.8,1\\n26,340,120,5,4.5,4.5,9.6,1\\n27,322,109,5,4.5,3.5,8.8,0\\n28,298,98,2,1.5,2.5,7.5,1\\n29,295,93,1,2,2,7.2,0\\n30,310,99,2,1.5,2,7.3,0\\n31,300,97,2,3,3,8.1,1\\n32,327,103,3,4,4,8.3,1\\n33,338,118,4,3,4.5,9.4,1\\n34,340,114,5,4,4,9.6,1\\n35,331,112,5,4,5,9.8,1\\n36,320,110,5,5,5,9.2,1\\n37,299,106,2,4,4,8.4,0\\n38,300,105,1,1,2,7.8,0\\n39,304,105,1,3,1.5,7.5,0\\n40,307,108,2,4,3.5,7.7,0\\n41,308,110,3,3.5,3,8,1\\n42,316,105,2,2.5,2.5,8.2,1\\n43,313,107,2,2.5,2,8.5,1\\n44,332,117,4,4.5,4,9.1,0\\n45,326,113,5,4.5,4,9.4,1\\n46,322,110,5,5,4,9.1,1\\n47,329,114,5,4,5,9.3,1\\n48,339,119,5,4.5,4,9.7,0\\n49,321,110,3,3.5,5,8.85,1\\n50,327,111,4,3,4,8.4,1\\n51,313,98,3,2.5,4.5,8.3,1\\n52,312,100,2,1.5,3.5,7.9,1\\n53,334,116,4,4,3,8,1\\n54,324,112,4,4,2.5,8.1,1\\n55,322,110,3,3,3.5,8,0\\n56,320,103,3,3,3,7.7,0\\n57,316,102,3,2,3,7.4,0\\n58,298,99,2,4,2,7.6,0\\n59,300,99,1,3,2,6.8,1\\n60,311,104,2,2,2,8.3,0\\n61,309,100,2,3,3,8.1,0\\n62,307,101,3,4,3,8.2,0\\n63,304,105,2,3,3,8.2,1\\n64,315,107,2,4,3,8.5,1\\n65,325,111,3,3,3.5,8.7,0\\n66,325,112,4,3.5,3.5,8.92,0\\n67,327,114,3,3,3,9.02,0\\n68,316,107,2,3.5,3.5,8.64,1\\n69,318,109,3,3.5,4,9.22,1\\n70,328,115,4,4.5,4,9.16,1\\n71,332,118,5,5,5,9.64,1\\n72,336,112,5,5,5,9.76,1\\n73,321,111,5,5,5,9.45,1\\n74,314,108,4,4.5,4,9.04,1\\n75,314,106,3,3,5,8.9,0\\n76,329,114,2,2,4,8.56,1\\n77,327,112,3,3,3,8.72,1\\n78,301,99,2,3,2,8.22,0\\n79,296,95,2,3,2,7.54,1\\n80,294,93,1,1.5,2,7.36,0\\n81,312,105,3,2,3,8.02,1\\n82,340,120,4,5,5,9.5,1\\n83,320,110,5,5,4.5,9.22,1\\n84,322,115,5,4,4.5,9.36,1\\n85,340,115,5,4.5,4.5,9.45,1\\n86,319,103,4,4.5,3.5,8.66,0\\n87,315,106,3,4.5,3.5,8.42,0\\n88,317,107,2,3.5,3,8.28,0\\n89,314,108,3,4.5,3.5,8.14,0\\n90,316,109,4,4.5,3.5,8.76,1\\n91,318,106,2,4,4,7.92,1\\n92,299,97,3,5,3.5,7.66,0\\n93,298,98,2,4,3,8.03,0\\n94,301,97,2,3,3,7.88,1\\n95,303,99,3,2,2.5,7.66,0\\n96,304,100,4,1.5,2.5,7.84,0\\n97,306,100,2,3,3,8,0\\n98,331,120,3,4,4,8.96,1\\n99,332,119,4,5,4.5,9.24,1\\n100,323,113,3,4,4,8.88,1\\n101,322,107,3,3.5,3.5,8.46,1\\n102,312,105,2,2.5,3,8.12,0\\n103,314,106,2,4,3.5,8.25,0\\n104,317,104,2,4.5,4,8.47,0\\n105,326,112,3,3.5,3,9.05,1\\n106,316,110,3,4,4.5,8.78,1\\n107,329,111,4,4.5,4.5,9.18,1\\n108,338,117,4,3.5,4.5,9.46,1\\n109,331,116,5,5,5,9.38,1\\n110,304,103,5,5,4,8.64,0\\n111,305,108,5,3,3,8.48,0\\n112,321,109,4,4,4,8.68,1\\n113,301,107,3,3.5,3.5,8.34,1\\n114,320,110,2,4,3.5,8.56,0\\n115,311,105,3,3.5,3,8.45,1\\n116,310,106,4,4.5,4.5,9.04,1\\n117,299,102,3,4,3.5,8.62,0\\n118,290,104,4,2,2.5,7.46,0\\n119,296,99,2,3,3.5,7.28,0\\n120,327,104,5,3,3.5,8.84,1\\n121,335,117,5,5,5,9.56,1\\n122,334,119,5,4.5,4.5,9.48,1\\n123,310,106,4,1.5,2.5,8.36,0\\n124,308,108,3,3.5,3.5,8.22,0\\n125,301,106,4,2.5,3,8.47,0\\n126,300,100,3,2,3,8.66,1\\n127,323,113,3,4,3,9.32,1\\n128,319,112,3,2.5,2,8.71,1\\n129,326,112,3,3.5,3,9.1,1\\n130,333,118,5,5,5,9.35,1\\n131,339,114,5,4,4.5,9.76,1\\n132,303,105,5,5,4.5,8.65,0\\n133,309,105,5,3.5,3.5,8.56,0\\n134,323,112,5,4,4.5,8.78,0\\n135,333,113,5,4,4,9.28,1\\n136,314,109,4,3.5,4,8.77,1\\n137,312,103,3,5,4,8.45,0\\n138,316,100,2,1.5,3,8.16,1\\n139,326,116,2,4.5,3,9.08,1\\n140,318,109,1,3.5,3.5,9.12,0\\n141,329,110,2,4,3,9.15,1\\n142,332,118,2,4.5,3.5,9.36,1\\n143,331,115,5,4,3.5,9.44,1\\n144,340,120,4,4.5,4,9.92,1\\n145,325,112,2,3,3.5,8.96,1\\n146,320,113,2,2,2.5,8.64,1\\n147,315,105,3,2,2.5,8.48,0\\n148,326,114,3,3,3,9.11,1\\n149,339,116,4,4,3.5,9.8,1\\n150,311,106,2,3.5,3,8.26,1\\n151,334,114,4,4,4,9.43,1\\n152,332,116,5,5,5,9.28,1\\n153,321,112,5,5,5,9.06,1\\n154,324,105,3,3,4,8.75,0\\n155,326,108,3,3,3.5,8.89,0\\n156,312,109,3,3,3,8.69,0\\n157,315,105,3,2,2.5,8.34,0\\n158,309,104,2,2,2.5,8.26,0\\n159,306,106,2,2,2.5,8.14,0\\n160,297,100,1,1.5,2,7.9,0\\n161,315,103,1,1.5,2,7.86,0\\n162,298,99,1,1.5,3,7.46,0\\n163,318,109,3,3,3,8.5,0\\n164,317,105,3,3.5,3,8.56,0\\n165,329,111,4,4.5,4,9.01,1\\n166,322,110,5,4.5,4,8.97,0\\n167,302,102,3,3.5,5,8.33,0\\n168,313,102,3,2,3,8.27,0\\n169,293,97,2,2,4,7.8,1\\n170,311,99,2,2.5,3,7.98,0\\n171,312,101,2,2.5,3.5,8.04,1\\n172,334,117,5,4,4.5,9.07,1\\n173,322,110,4,4,5,9.13,1\\n174,323,113,4,4,4.5,9.23,1\\n175,321,111,4,4,4,8.97,1\\n176,320,111,4,4.5,3.5,8.87,1\\n177,329,119,4,4.5,4.5,9.16,1\\n178,319,110,3,3.5,3.5,9.04,0\\n179,309,108,3,2.5,3,8.12,0\\n180,307,102,3,3,3,8.27,0\\n181,300,104,3,3.5,3,8.16,0\\n182,305,107,2,2.5,2.5,8.42,0\\n183,299,100,2,3,3.5,7.88,0\\n184,314,110,3,4,4,8.8,0\\n185,316,106,2,2.5,4,8.32,0\\n186,327,113,4,4.5,4.5,9.11,1\\n187,317,107,3,3.5,3,8.68,1\\n188,335,118,5,4.5,3.5,9.44,1\\n189,331,115,5,4.5,3.5,9.36,1\\n190,324,112,5,5,5,9.08,1\\n191,324,111,5,4.5,4,9.16,1\\n192,323,110,5,4,5,8.98,1\\n193,322,114,5,4.5,4,8.94,1\\n194,336,118,5,4.5,5,9.53,1\\n195,316,109,3,3.5,3,8.76,0\\n196,307,107,2,3,3.5,8.52,1\\n197,306,105,2,3,2.5,8.26,0\\n198,310,106,2,3.5,2.5,8.33,0\\n199,311,104,3,4.5,4.5,8.43,0\\n200,313,107,3,4,4.5,8.69,0\\n201,317,103,3,2.5,3,8.54,1\\n202,315,110,2,3.5,3,8.46,1\\n203,340,120,5,4.5,4.5,9.91,1\\n204,334,120,5,4,5,9.87,1\\n205,298,105,3,3.5,4,8.54,0\\n206,295,99,2,2.5,3,7.65,0\\n207,315,99,2,3.5,3,7.89,0\\n208,310,102,3,3.5,4,8.02,1\\n209,305,106,2,3,3,8.16,0\\n210,301,104,3,3.5,4,8.12,1\\n211,325,108,4,4.5,4,9.06,1\\n212,328,110,4,5,4,9.14,1\\n213,338,120,4,5,5,9.66,1\\n214,333,119,5,5,4.5,9.78,1\\n215,331,117,4,4.5,5,9.42,1\\n216,330,116,5,5,4.5,9.36,1\\n217,322,112,4,4.5,4.5,9.26,1\\n218,321,109,4,4,4,9.13,1\\n219,324,110,4,3,3.5,8.97,1\\n220,312,104,3,3.5,3.5,8.42,0\\n221,313,103,3,4,4,8.75,0\\n222,316,110,3,3.5,4,8.56,0\\n223,324,113,4,4.5,4,8.79,0\\n224,308,109,2,3,4,8.45,0\\n225,305,105,2,3,2,8.23,0\\n226,296,99,2,2.5,2.5,8.03,0\\n227,306,110,2,3.5,4,8.45,0\\n228,312,110,2,3.5,3,8.53,0\\n229,318,112,3,4,3.5,8.67,0\\n230,324,111,4,3,3,9.01,1\\n231,313,104,3,4,4.5,8.65,0\\n232,319,106,3,3.5,2.5,8.33,1\\n233,312,107,2,2.5,3.5,8.27,0\\n234,304,100,2,2.5,3.5,8.07,0\\n235,330,113,5,5,4,9.31,1\\n236,326,111,5,4.5,4,9.23,1\\n237,325,112,4,4,4.5,9.17,1\\n238,329,114,5,4.5,5,9.19,1\\n239,310,104,3,2,3.5,8.37,0\\n240,299,100,1,1.5,2,7.89,0\\n241,296,101,1,2.5,3,7.68,0\\n242,317,103,2,2.5,2,8.15,0\\n243,324,115,3,3.5,3,8.76,1\\n244,325,114,3,3.5,3,9.04,1\\n245,314,107,2,2.5,4,8.56,0\\n246,328,110,4,4,2.5,9.02,1\\n247,316,105,3,3,3.5,8.73,0\\n248,311,104,2,2.5,3.5,8.48,0\\n249,324,110,3,3.5,4,8.87,1\\n250,321,111,3,3.5,4,8.83,1\\n251,320,104,3,3,2.5,8.57,1\\n252,316,99,2,2.5,3,9,0\\n253,318,100,2,2.5,3.5,8.54,1\\n254,335,115,4,4.5,4.5,9.68,1\\n255,321,114,4,4,5,9.12,0\\n256,307,110,4,4,4.5,8.37,0\\n257,309,99,3,4,4,8.56,0\\n258,324,100,3,4,5,8.64,1\\n259,326,102,4,5,5,8.76,1\\n260,331,119,4,5,4.5,9.34,1\\n261,327,108,5,5,3.5,9.13,1\\n262,312,104,3,3.5,4,8.09,0\\n263,308,103,2,2.5,4,8.36,1\\n264,324,111,3,2.5,1.5,8.79,1\\n265,325,110,2,3,2.5,8.76,1\\n266,313,102,3,2.5,2.5,8.68,0\\n267,312,105,2,2,2.5,8.45,0\\n268,314,107,3,3,3.5,8.17,1\\n269,327,113,4,4.5,5,9.14,0\\n270,308,108,4,4.5,5,8.34,0\\n271,306,105,2,2.5,3,8.22,1\\n272,299,96,2,1.5,2,7.86,0\\n273,294,95,1,1.5,1.5,7.64,0\\n274,312,99,1,1,1.5,8.01,1\\n275,315,100,1,2,2.5,7.95,0\\n276,322,110,3,3.5,3,8.96,1\\n277,329,113,5,5,4.5,9.45,1\\n278,320,101,2,2.5,3,8.62,0\\n279,308,103,2,3,3.5,8.49,0\\n280,304,102,2,3,4,8.73,0\\n281,311,102,3,4.5,4,8.64,1\\n282,317,110,3,4,4.5,9.11,1\\n283,312,106,3,4,3.5,8.79,1\\n284,321,111,3,2.5,3,8.9,1\\n285,340,112,4,5,4.5,9.66,1\\n286,331,116,5,4,4,9.26,1\\n287,336,118,5,4.5,4,9.19,1\\n288,324,114,5,5,4.5,9.08,1\\n289,314,104,4,5,5,9.02,0\\n290,313,109,3,4,3.5,9,0\\n291,307,105,2,2.5,3,7.65,0\\n292,300,102,2,1.5,2,7.87,0\\n293,302,99,2,1,2,7.97,0\\n294,312,98,1,3.5,3,8.18,1\\n295,316,101,2,2.5,2,8.32,1\\n296,317,100,2,3,2.5,8.57,0\\n297,310,107,3,3.5,3.5,8.67,0\\n298,320,120,3,4,4.5,9.11,0\\n299,330,114,3,4.5,4.5,9.24,1\\n300,305,112,3,3,3.5,8.65,0\\n301,309,106,2,2.5,2.5,8,0\\n302,319,108,2,2.5,3,8.76,0\\n303,322,105,2,3,3,8.45,1\\n304,323,107,3,3.5,3.5,8.55,1\\n305,313,106,2,2.5,2,8.43,0\\n306,321,109,3,3.5,3.5,8.8,1\\n307,323,110,3,4,3.5,9.1,1\\n308,325,112,4,4,4,9,1\\n309,312,108,3,3.5,3,8.53,0\\n310,308,110,4,3.5,3,8.6,0\\n311,320,104,3,3,3.5,8.74,1\\n312,328,108,4,4.5,4,9.18,1\\n313,311,107,4,4.5,4.5,9,1\\n314,301,100,3,3.5,3,8.04,0\\n315,305,105,2,3,4,8.13,0\\n316,308,104,2,2.5,3,8.07,0\\n317,298,101,2,1.5,2,7.86,0\\n318,300,99,1,1,2.5,8.01,0\\n319,324,111,3,2.5,2,8.8,1\\n320,327,113,4,3.5,3,8.69,1\\n321,317,106,3,4,3.5,8.5,1\\n322,323,104,3,4,4,8.44,1\\n323,314,107,2,2.5,4,8.27,0\\n324,305,102,2,2,2.5,8.18,0\\n325,315,104,3,3,2.5,8.33,0\\n326,326,116,3,3.5,4,9.14,1\\n327,299,100,3,2,2,8.02,0\\n328,295,101,2,2.5,2,7.86,0\\n329,324,112,4,4,3.5,8.77,1\\n330,297,96,2,2.5,1.5,7.89,0\\n331,327,113,3,3.5,3,8.66,1\\n332,311,105,2,3,2,8.12,1\\n333,308,106,3,3.5,2.5,8.21,1\\n334,319,108,3,3,3.5,8.54,1\\n335,312,107,4,4.5,4,8.65,1\\n336,325,111,4,4,4.5,9.11,1\\n337,319,110,3,3,2.5,8.79,0\\n338,332,118,5,5,5,9.47,1\\n339,323,108,5,4,4,8.74,1\\n340,324,107,5,3.5,4,8.66,1\\n341,312,107,3,3,3,8.46,1\\n342,326,110,3,3.5,3.5,8.76,1\\n343,308,106,3,3,3,8.24,0\\n344,305,103,2,2.5,3.5,8.13,0\\n345,295,96,2,1.5,2,7.34,0\\n346,316,98,1,1.5,2,7.43,0\\n347,304,97,2,1.5,2,7.64,0\\n348,299,94,1,1,1,7.34,0\\n349,302,99,1,2,2,7.25,0\\n350,313,101,3,2.5,3,8.04,0\\n351,318,107,3,3,3.5,8.27,1\\n352,325,110,4,3.5,4,8.67,1\\n353,303,100,2,3,3.5,8.06,1\\n354,300,102,3,3.5,2.5,8.17,0\\n355,297,98,2,2.5,3,7.67,0\\n356,317,106,2,2,3.5,8.12,0\\n357,327,109,3,3.5,4,8.77,1\\n358,301,104,2,3.5,3.5,7.89,1\\n359,314,105,2,2.5,2,7.64,0\\n360,321,107,2,2,1.5,8.44,0\\n361,322,110,3,4,5,8.64,1\\n362,334,116,4,4,3.5,9.54,1\\n363,338,115,5,4.5,5,9.23,1\\n364,306,103,2,2.5,3,8.36,0\\n365,313,102,3,3.5,4,8.9,1\\n366,330,114,4,4.5,3,9.17,1\\n367,320,104,3,3.5,4.5,8.34,1\\n368,311,98,1,1,2.5,7.46,0\\n369,298,92,1,2,2,7.88,0\\n370,301,98,1,2,3,8.03,1\\n371,310,103,2,2.5,2.5,8.24,0\\n372,324,110,3,3.5,3,9.22,1\\n373,336,119,4,4.5,4,9.62,1\\n374,321,109,3,3,3,8.54,1\\n375,315,105,2,2,2.5,7.65,0\\n376,304,101,2,2,2.5,7.66,0\\n377,297,96,2,2.5,2,7.43,0\\n378,290,100,1,1.5,2,7.56,0\\n379,303,98,1,2,2.5,7.65,0\\n380,311,99,1,2.5,3,8.43,1\\n381,322,104,3,3.5,4,8.84,1\\n382,319,105,3,3,3.5,8.67,1\\n383,324,110,4,4.5,4,9.15,1\\n384,300,100,3,3,3.5,8.26,0\\n385,340,113,4,5,5,9.74,1\\n386,335,117,5,5,5,9.82,1\\n387,302,101,2,2.5,3.5,7.96,0\\n388,307,105,2,2,3.5,8.1,0\\n389,296,97,2,1.5,2,7.8,0\\n390,320,108,3,3.5,4,8.44,1\\n391,314,102,2,2,2.5,8.24,0\\n392,318,106,3,2,3,8.65,0\\n393,326,112,4,4,3.5,9.12,1\\n394,317,104,2,3,3,8.76,0\\n395,329,111,4,4.5,4,9.23,1\\n396,324,110,3,3.5,3.5,9.04,1\\n397,325,107,3,3,3.5,9.11,1\\n398,330,116,4,5,4.5,9.45,1\\n399,312,103,3,3.5,4,8.78,0\\n400,333,117,4,5,4,9.66,1\\n'}"
            ]
          },
          "metadata": {},
          "execution_count": 1
        }
      ],
      "source": [
        "from google.colab import files\n",
        "files.upload()"
      ]
    },
    {
      "cell_type": "code",
      "source": [
        "import pandas as pd\n",
        "import plotly.express as px\n",
        "\n",
        "df=pd.read_csv(\"Admission_Predict.csv\")\n",
        "toefl_score=df[\"TOEFL Score\"].tolist()\n",
        "result=df[\"Chance of admit\"].tolist()\n",
        "\n",
        "fig=px.scatter(x=toefl_score,y=result)\n",
        "fig.show()"
      ],
      "metadata": {
        "colab": {
          "base_uri": "https://localhost:8080/",
          "height": 542
        },
        "id": "anDtjoCTDzW7",
        "outputId": "de9f94da-3ac3-4fed-90f9-dfdd012d2755"
      },
      "execution_count": 18,
      "outputs": [
        {
          "output_type": "display_data",
          "data": {
            "text/html": [
              "<html>\n",
              "<head><meta charset=\"utf-8\" /></head>\n",
              "<body>\n",
              "    <div>            <script src=\"https://cdnjs.cloudflare.com/ajax/libs/mathjax/2.7.5/MathJax.js?config=TeX-AMS-MML_SVG\"></script><script type=\"text/javascript\">if (window.MathJax) {MathJax.Hub.Config({SVG: {font: \"STIX-Web\"}});}</script>                <script type=\"text/javascript\">window.PlotlyConfig = {MathJaxConfig: 'local'};</script>\n",
              "        <script src=\"https://cdn.plot.ly/plotly-2.8.3.min.js\"></script>                <div id=\"8b9e7fb8-1a42-4108-bad8-f05a3fa96811\" class=\"plotly-graph-div\" style=\"height:525px; width:100%;\"></div>            <script type=\"text/javascript\">                                    window.PLOTLYENV=window.PLOTLYENV || {};                                    if (document.getElementById(\"8b9e7fb8-1a42-4108-bad8-f05a3fa96811\")) {                    Plotly.newPlot(                        \"8b9e7fb8-1a42-4108-bad8-f05a3fa96811\",                        [{\"hovertemplate\":\"x=%{x}<br>y=%{y}<extra></extra>\",\"legendgroup\":\"\",\"marker\":{\"color\":\"#636efa\",\"symbol\":\"circle\"},\"mode\":\"markers\",\"name\":\"\",\"orientation\":\"v\",\"showlegend\":false,\"x\":[118,107,104,110,103,115,109,101,102,108,106,111,112,109,104,105,107,106,110,102,107,114,116,119,119,120,109,98,93,99,97,103,118,114,112,110,106,105,105,108,110,105,107,117,113,110,114,119,110,111,98,100,116,112,110,103,102,99,99,104,100,101,105,107,111,112,114,107,109,115,118,112,111,108,106,114,112,99,95,93,105,120,110,115,115,103,106,107,108,109,106,97,98,97,99,100,100,120,119,113,107,105,106,104,112,110,111,117,116,103,108,109,107,110,105,106,102,104,99,104,117,119,106,108,106,100,113,112,112,118,114,105,105,112,113,109,103,100,116,109,110,118,115,120,112,113,105,114,116,106,114,116,112,105,108,109,105,104,106,100,103,99,109,105,111,110,102,102,97,99,101,117,110,113,111,111,119,110,108,102,104,107,100,110,106,113,107,118,115,112,111,110,114,118,109,107,105,106,104,107,103,110,120,120,105,99,99,102,106,104,108,110,120,119,117,116,112,109,110,104,103,110,113,109,105,99,110,110,112,111,104,106,107,100,113,111,112,114,104,100,101,103,115,114,107,110,105,104,110,111,104,99,100,115,114,110,99,100,102,119,108,104,103,111,110,102,105,107,113,108,105,96,95,99,100,110,113,101,103,102,102,110,106,111,112,116,118,114,104,109,105,102,99,98,101,100,107,120,114,112,106,108,105,107,106,109,110,112,108,110,104,108,107,100,105,104,101,99,111,113,106,104,107,102,104,116,100,101,112,96,113,105,106,108,107,111,110,118,108,107,107,110,106,103,96,98,97,94,99,101,107,110,100,102,98,106,109,104,105,107,110,116,115,103,102,114,104,98,92,98,103,110,119,109,105,101,96,100,98,99,104,105,110,100,113,117,101,105,97,108,102,106,112,104,111,110,107,116,103,117],\"xaxis\":\"x\",\"y\":[1,1,1,1,0,1,1,0,0,0,1,1,1,1,1,0,0,1,0,0,1,0,1,1,1,1,0,1,0,0,1,1,1,1,1,1,0,0,0,0,1,1,1,0,1,1,1,0,1,1,1,1,1,1,0,0,0,0,1,0,0,0,1,1,0,0,0,1,1,1,1,1,1,1,0,1,1,0,1,0,1,1,1,1,1,0,0,0,0,1,1,0,0,1,0,0,0,1,1,1,1,0,0,0,1,1,1,1,1,0,0,1,1,0,1,1,0,0,0,1,1,1,0,0,0,1,1,1,1,1,1,0,0,0,1,1,0,1,1,0,1,1,1,1,1,1,0,1,1,1,1,1,1,0,0,0,0,0,0,0,0,0,0,0,1,0,0,0,1,0,1,1,1,1,1,1,1,0,0,0,0,0,0,0,0,1,1,1,1,1,1,1,1,1,0,1,0,0,0,0,1,1,1,1,0,0,0,1,0,1,1,1,1,1,1,1,1,1,1,0,0,0,0,0,0,0,0,0,0,1,0,1,0,0,1,1,1,1,0,0,0,0,1,1,0,1,0,0,1,1,1,0,1,1,0,0,0,1,1,1,1,0,1,1,1,0,0,1,0,0,1,0,0,1,0,1,1,0,0,0,1,1,1,1,1,1,1,1,0,0,0,0,0,1,1,0,0,0,1,0,0,0,1,1,0,1,1,1,0,0,1,1,1,0,0,0,0,0,1,1,1,1,0,0,0,1,0,0,1,0,1,1,1,1,1,1,0,1,1,1,1,1,0,0,0,0,0,0,0,0,1,1,1,0,0,0,1,1,0,0,1,1,1,0,1,1,1,0,0,1,0,1,1,1,0,0,0,0,0,1,1,1,1,0,1,1,0,0,0,1,0,0,1,0,1,1,1,1,0,1],\"yaxis\":\"y\",\"type\":\"scatter\"}],                        {\"template\":{\"data\":{\"bar\":[{\"error_x\":{\"color\":\"#2a3f5f\"},\"error_y\":{\"color\":\"#2a3f5f\"},\"marker\":{\"line\":{\"color\":\"#E5ECF6\",\"width\":0.5},\"pattern\":{\"fillmode\":\"overlay\",\"size\":10,\"solidity\":0.2}},\"type\":\"bar\"}],\"barpolar\":[{\"marker\":{\"line\":{\"color\":\"#E5ECF6\",\"width\":0.5},\"pattern\":{\"fillmode\":\"overlay\",\"size\":10,\"solidity\":0.2}},\"type\":\"barpolar\"}],\"carpet\":[{\"aaxis\":{\"endlinecolor\":\"#2a3f5f\",\"gridcolor\":\"white\",\"linecolor\":\"white\",\"minorgridcolor\":\"white\",\"startlinecolor\":\"#2a3f5f\"},\"baxis\":{\"endlinecolor\":\"#2a3f5f\",\"gridcolor\":\"white\",\"linecolor\":\"white\",\"minorgridcolor\":\"white\",\"startlinecolor\":\"#2a3f5f\"},\"type\":\"carpet\"}],\"choropleth\":[{\"colorbar\":{\"outlinewidth\":0,\"ticks\":\"\"},\"type\":\"choropleth\"}],\"contour\":[{\"colorbar\":{\"outlinewidth\":0,\"ticks\":\"\"},\"colorscale\":[[0.0,\"#0d0887\"],[0.1111111111111111,\"#46039f\"],[0.2222222222222222,\"#7201a8\"],[0.3333333333333333,\"#9c179e\"],[0.4444444444444444,\"#bd3786\"],[0.5555555555555556,\"#d8576b\"],[0.6666666666666666,\"#ed7953\"],[0.7777777777777778,\"#fb9f3a\"],[0.8888888888888888,\"#fdca26\"],[1.0,\"#f0f921\"]],\"type\":\"contour\"}],\"contourcarpet\":[{\"colorbar\":{\"outlinewidth\":0,\"ticks\":\"\"},\"type\":\"contourcarpet\"}],\"heatmap\":[{\"colorbar\":{\"outlinewidth\":0,\"ticks\":\"\"},\"colorscale\":[[0.0,\"#0d0887\"],[0.1111111111111111,\"#46039f\"],[0.2222222222222222,\"#7201a8\"],[0.3333333333333333,\"#9c179e\"],[0.4444444444444444,\"#bd3786\"],[0.5555555555555556,\"#d8576b\"],[0.6666666666666666,\"#ed7953\"],[0.7777777777777778,\"#fb9f3a\"],[0.8888888888888888,\"#fdca26\"],[1.0,\"#f0f921\"]],\"type\":\"heatmap\"}],\"heatmapgl\":[{\"colorbar\":{\"outlinewidth\":0,\"ticks\":\"\"},\"colorscale\":[[0.0,\"#0d0887\"],[0.1111111111111111,\"#46039f\"],[0.2222222222222222,\"#7201a8\"],[0.3333333333333333,\"#9c179e\"],[0.4444444444444444,\"#bd3786\"],[0.5555555555555556,\"#d8576b\"],[0.6666666666666666,\"#ed7953\"],[0.7777777777777778,\"#fb9f3a\"],[0.8888888888888888,\"#fdca26\"],[1.0,\"#f0f921\"]],\"type\":\"heatmapgl\"}],\"histogram\":[{\"marker\":{\"pattern\":{\"fillmode\":\"overlay\",\"size\":10,\"solidity\":0.2}},\"type\":\"histogram\"}],\"histogram2d\":[{\"colorbar\":{\"outlinewidth\":0,\"ticks\":\"\"},\"colorscale\":[[0.0,\"#0d0887\"],[0.1111111111111111,\"#46039f\"],[0.2222222222222222,\"#7201a8\"],[0.3333333333333333,\"#9c179e\"],[0.4444444444444444,\"#bd3786\"],[0.5555555555555556,\"#d8576b\"],[0.6666666666666666,\"#ed7953\"],[0.7777777777777778,\"#fb9f3a\"],[0.8888888888888888,\"#fdca26\"],[1.0,\"#f0f921\"]],\"type\":\"histogram2d\"}],\"histogram2dcontour\":[{\"colorbar\":{\"outlinewidth\":0,\"ticks\":\"\"},\"colorscale\":[[0.0,\"#0d0887\"],[0.1111111111111111,\"#46039f\"],[0.2222222222222222,\"#7201a8\"],[0.3333333333333333,\"#9c179e\"],[0.4444444444444444,\"#bd3786\"],[0.5555555555555556,\"#d8576b\"],[0.6666666666666666,\"#ed7953\"],[0.7777777777777778,\"#fb9f3a\"],[0.8888888888888888,\"#fdca26\"],[1.0,\"#f0f921\"]],\"type\":\"histogram2dcontour\"}],\"mesh3d\":[{\"colorbar\":{\"outlinewidth\":0,\"ticks\":\"\"},\"type\":\"mesh3d\"}],\"parcoords\":[{\"line\":{\"colorbar\":{\"outlinewidth\":0,\"ticks\":\"\"}},\"type\":\"parcoords\"}],\"pie\":[{\"automargin\":true,\"type\":\"pie\"}],\"scatter\":[{\"marker\":{\"colorbar\":{\"outlinewidth\":0,\"ticks\":\"\"}},\"type\":\"scatter\"}],\"scatter3d\":[{\"line\":{\"colorbar\":{\"outlinewidth\":0,\"ticks\":\"\"}},\"marker\":{\"colorbar\":{\"outlinewidth\":0,\"ticks\":\"\"}},\"type\":\"scatter3d\"}],\"scattercarpet\":[{\"marker\":{\"colorbar\":{\"outlinewidth\":0,\"ticks\":\"\"}},\"type\":\"scattercarpet\"}],\"scattergeo\":[{\"marker\":{\"colorbar\":{\"outlinewidth\":0,\"ticks\":\"\"}},\"type\":\"scattergeo\"}],\"scattergl\":[{\"marker\":{\"colorbar\":{\"outlinewidth\":0,\"ticks\":\"\"}},\"type\":\"scattergl\"}],\"scattermapbox\":[{\"marker\":{\"colorbar\":{\"outlinewidth\":0,\"ticks\":\"\"}},\"type\":\"scattermapbox\"}],\"scatterpolar\":[{\"marker\":{\"colorbar\":{\"outlinewidth\":0,\"ticks\":\"\"}},\"type\":\"scatterpolar\"}],\"scatterpolargl\":[{\"marker\":{\"colorbar\":{\"outlinewidth\":0,\"ticks\":\"\"}},\"type\":\"scatterpolargl\"}],\"scatterternary\":[{\"marker\":{\"colorbar\":{\"outlinewidth\":0,\"ticks\":\"\"}},\"type\":\"scatterternary\"}],\"surface\":[{\"colorbar\":{\"outlinewidth\":0,\"ticks\":\"\"},\"colorscale\":[[0.0,\"#0d0887\"],[0.1111111111111111,\"#46039f\"],[0.2222222222222222,\"#7201a8\"],[0.3333333333333333,\"#9c179e\"],[0.4444444444444444,\"#bd3786\"],[0.5555555555555556,\"#d8576b\"],[0.6666666666666666,\"#ed7953\"],[0.7777777777777778,\"#fb9f3a\"],[0.8888888888888888,\"#fdca26\"],[1.0,\"#f0f921\"]],\"type\":\"surface\"}],\"table\":[{\"cells\":{\"fill\":{\"color\":\"#EBF0F8\"},\"line\":{\"color\":\"white\"}},\"header\":{\"fill\":{\"color\":\"#C8D4E3\"},\"line\":{\"color\":\"white\"}},\"type\":\"table\"}]},\"layout\":{\"annotationdefaults\":{\"arrowcolor\":\"#2a3f5f\",\"arrowhead\":0,\"arrowwidth\":1},\"autotypenumbers\":\"strict\",\"coloraxis\":{\"colorbar\":{\"outlinewidth\":0,\"ticks\":\"\"}},\"colorscale\":{\"diverging\":[[0,\"#8e0152\"],[0.1,\"#c51b7d\"],[0.2,\"#de77ae\"],[0.3,\"#f1b6da\"],[0.4,\"#fde0ef\"],[0.5,\"#f7f7f7\"],[0.6,\"#e6f5d0\"],[0.7,\"#b8e186\"],[0.8,\"#7fbc41\"],[0.9,\"#4d9221\"],[1,\"#276419\"]],\"sequential\":[[0.0,\"#0d0887\"],[0.1111111111111111,\"#46039f\"],[0.2222222222222222,\"#7201a8\"],[0.3333333333333333,\"#9c179e\"],[0.4444444444444444,\"#bd3786\"],[0.5555555555555556,\"#d8576b\"],[0.6666666666666666,\"#ed7953\"],[0.7777777777777778,\"#fb9f3a\"],[0.8888888888888888,\"#fdca26\"],[1.0,\"#f0f921\"]],\"sequentialminus\":[[0.0,\"#0d0887\"],[0.1111111111111111,\"#46039f\"],[0.2222222222222222,\"#7201a8\"],[0.3333333333333333,\"#9c179e\"],[0.4444444444444444,\"#bd3786\"],[0.5555555555555556,\"#d8576b\"],[0.6666666666666666,\"#ed7953\"],[0.7777777777777778,\"#fb9f3a\"],[0.8888888888888888,\"#fdca26\"],[1.0,\"#f0f921\"]]},\"colorway\":[\"#636efa\",\"#EF553B\",\"#00cc96\",\"#ab63fa\",\"#FFA15A\",\"#19d3f3\",\"#FF6692\",\"#B6E880\",\"#FF97FF\",\"#FECB52\"],\"font\":{\"color\":\"#2a3f5f\"},\"geo\":{\"bgcolor\":\"white\",\"lakecolor\":\"white\",\"landcolor\":\"#E5ECF6\",\"showlakes\":true,\"showland\":true,\"subunitcolor\":\"white\"},\"hoverlabel\":{\"align\":\"left\"},\"hovermode\":\"closest\",\"mapbox\":{\"style\":\"light\"},\"paper_bgcolor\":\"white\",\"plot_bgcolor\":\"#E5ECF6\",\"polar\":{\"angularaxis\":{\"gridcolor\":\"white\",\"linecolor\":\"white\",\"ticks\":\"\"},\"bgcolor\":\"#E5ECF6\",\"radialaxis\":{\"gridcolor\":\"white\",\"linecolor\":\"white\",\"ticks\":\"\"}},\"scene\":{\"xaxis\":{\"backgroundcolor\":\"#E5ECF6\",\"gridcolor\":\"white\",\"gridwidth\":2,\"linecolor\":\"white\",\"showbackground\":true,\"ticks\":\"\",\"zerolinecolor\":\"white\"},\"yaxis\":{\"backgroundcolor\":\"#E5ECF6\",\"gridcolor\":\"white\",\"gridwidth\":2,\"linecolor\":\"white\",\"showbackground\":true,\"ticks\":\"\",\"zerolinecolor\":\"white\"},\"zaxis\":{\"backgroundcolor\":\"#E5ECF6\",\"gridcolor\":\"white\",\"gridwidth\":2,\"linecolor\":\"white\",\"showbackground\":true,\"ticks\":\"\",\"zerolinecolor\":\"white\"}},\"shapedefaults\":{\"line\":{\"color\":\"#2a3f5f\"}},\"ternary\":{\"aaxis\":{\"gridcolor\":\"white\",\"linecolor\":\"white\",\"ticks\":\"\"},\"baxis\":{\"gridcolor\":\"white\",\"linecolor\":\"white\",\"ticks\":\"\"},\"bgcolor\":\"#E5ECF6\",\"caxis\":{\"gridcolor\":\"white\",\"linecolor\":\"white\",\"ticks\":\"\"}},\"title\":{\"x\":0.05},\"xaxis\":{\"automargin\":true,\"gridcolor\":\"white\",\"linecolor\":\"white\",\"ticks\":\"\",\"title\":{\"standoff\":15},\"zerolinecolor\":\"white\",\"zerolinewidth\":2},\"yaxis\":{\"automargin\":true,\"gridcolor\":\"white\",\"linecolor\":\"white\",\"ticks\":\"\",\"title\":{\"standoff\":15},\"zerolinecolor\":\"white\",\"zerolinewidth\":2}}},\"xaxis\":{\"anchor\":\"y\",\"domain\":[0.0,1.0],\"title\":{\"text\":\"x\"}},\"yaxis\":{\"anchor\":\"x\",\"domain\":[0.0,1.0],\"title\":{\"text\":\"y\"}},\"legend\":{\"tracegroupgap\":0},\"margin\":{\"t\":60}},                        {\"responsive\": true}                    ).then(function(){\n",
              "                            \n",
              "var gd = document.getElementById('8b9e7fb8-1a42-4108-bad8-f05a3fa96811');\n",
              "var x = new MutationObserver(function (mutations, observer) {{\n",
              "        var display = window.getComputedStyle(gd).display;\n",
              "        if (!display || display === 'none') {{\n",
              "            console.log([gd, 'removed!']);\n",
              "            Plotly.purge(gd);\n",
              "            observer.disconnect();\n",
              "        }}\n",
              "}});\n",
              "\n",
              "// Listen for the removal of the full notebook cells\n",
              "var notebookContainer = gd.closest('#notebook-container');\n",
              "if (notebookContainer) {{\n",
              "    x.observe(notebookContainer, {childList: true});\n",
              "}}\n",
              "\n",
              "// Listen for the clearing of the current output cell\n",
              "var outputEl = gd.closest('.output');\n",
              "if (outputEl) {{\n",
              "    x.observe(outputEl, {childList: true});\n",
              "}}\n",
              "\n",
              "                        })                };                            </script>        </div>\n",
              "</body>\n",
              "</html>"
            ]
          },
          "metadata": {}
        }
      ]
    },
    {
      "cell_type": "code",
      "source": [
        "import plotly.graph_objects as go\n",
        "toefl_score=df[\"TOEFL Score\"].tolist()\n",
        "gre_score=df[\"GRE Score\"].tolist()\n",
        "results=df[\"Chance of admit\"].tolist()\n",
        "\n",
        "colors=[]\n",
        "for data in results:\n",
        "  if data==1:\n",
        "    colors.append(\"green\")\n",
        "  else:\n",
        "    colors.append(\"red\")\n",
        "fig=go.Figure(data=go.Scatter(\n",
        "    x=toefl_score,\n",
        "    y=gre_score,\n",
        "    mode='markers',\n",
        "    marker=dict(color=colors)\n",
        "))\n",
        "fig.show()"
      ],
      "metadata": {
        "colab": {
          "base_uri": "https://localhost:8080/",
          "height": 542
        },
        "id": "l1n-YiusFUGz",
        "outputId": "ccb047cd-07ca-4021-c674-b58aa1461dfd"
      },
      "execution_count": 19,
      "outputs": [
        {
          "output_type": "display_data",
          "data": {
            "text/html": [
              "<html>\n",
              "<head><meta charset=\"utf-8\" /></head>\n",
              "<body>\n",
              "    <div>            <script src=\"https://cdnjs.cloudflare.com/ajax/libs/mathjax/2.7.5/MathJax.js?config=TeX-AMS-MML_SVG\"></script><script type=\"text/javascript\">if (window.MathJax) {MathJax.Hub.Config({SVG: {font: \"STIX-Web\"}});}</script>                <script type=\"text/javascript\">window.PlotlyConfig = {MathJaxConfig: 'local'};</script>\n",
              "        <script src=\"https://cdn.plot.ly/plotly-2.8.3.min.js\"></script>                <div id=\"c3d6201f-0819-46fc-8ce8-fdf46d5e0c8d\" class=\"plotly-graph-div\" style=\"height:525px; width:100%;\"></div>            <script type=\"text/javascript\">                                    window.PLOTLYENV=window.PLOTLYENV || {};                                    if (document.getElementById(\"c3d6201f-0819-46fc-8ce8-fdf46d5e0c8d\")) {                    Plotly.newPlot(                        \"c3d6201f-0819-46fc-8ce8-fdf46d5e0c8d\",                        [{\"marker\":{\"color\":[\"green\",\"green\",\"green\",\"green\",\"red\",\"green\",\"green\",\"red\",\"red\",\"red\",\"green\",\"green\",\"green\",\"green\",\"green\",\"red\",\"red\",\"green\",\"red\",\"red\",\"green\",\"red\",\"green\",\"green\",\"green\",\"green\",\"red\",\"green\",\"red\",\"red\",\"green\",\"green\",\"green\",\"green\",\"green\",\"green\",\"red\",\"red\",\"red\",\"red\",\"green\",\"green\",\"green\",\"red\",\"green\",\"green\",\"green\",\"red\",\"green\",\"green\",\"green\",\"green\",\"green\",\"green\",\"red\",\"red\",\"red\",\"red\",\"green\",\"red\",\"red\",\"red\",\"green\",\"green\",\"red\",\"red\",\"red\",\"green\",\"green\",\"green\",\"green\",\"green\",\"green\",\"green\",\"red\",\"green\",\"green\",\"red\",\"green\",\"red\",\"green\",\"green\",\"green\",\"green\",\"green\",\"red\",\"red\",\"red\",\"red\",\"green\",\"green\",\"red\",\"red\",\"green\",\"red\",\"red\",\"red\",\"green\",\"green\",\"green\",\"green\",\"red\",\"red\",\"red\",\"green\",\"green\",\"green\",\"green\",\"green\",\"red\",\"red\",\"green\",\"green\",\"red\",\"green\",\"green\",\"red\",\"red\",\"red\",\"green\",\"green\",\"green\",\"red\",\"red\",\"red\",\"green\",\"green\",\"green\",\"green\",\"green\",\"green\",\"red\",\"red\",\"red\",\"green\",\"green\",\"red\",\"green\",\"green\",\"red\",\"green\",\"green\",\"green\",\"green\",\"green\",\"green\",\"red\",\"green\",\"green\",\"green\",\"green\",\"green\",\"green\",\"red\",\"red\",\"red\",\"red\",\"red\",\"red\",\"red\",\"red\",\"red\",\"red\",\"red\",\"green\",\"red\",\"red\",\"red\",\"green\",\"red\",\"green\",\"green\",\"green\",\"green\",\"green\",\"green\",\"green\",\"red\",\"red\",\"red\",\"red\",\"red\",\"red\",\"red\",\"red\",\"green\",\"green\",\"green\",\"green\",\"green\",\"green\",\"green\",\"green\",\"green\",\"red\",\"green\",\"red\",\"red\",\"red\",\"red\",\"green\",\"green\",\"green\",\"green\",\"red\",\"red\",\"red\",\"green\",\"red\",\"green\",\"green\",\"green\",\"green\",\"green\",\"green\",\"green\",\"green\",\"green\",\"green\",\"red\",\"red\",\"red\",\"red\",\"red\",\"red\",\"red\",\"red\",\"red\",\"red\",\"green\",\"red\",\"green\",\"red\",\"red\",\"green\",\"green\",\"green\",\"green\",\"red\",\"red\",\"red\",\"red\",\"green\",\"green\",\"red\",\"green\",\"red\",\"red\",\"green\",\"green\",\"green\",\"red\",\"green\",\"green\",\"red\",\"red\",\"red\",\"green\",\"green\",\"green\",\"green\",\"red\",\"green\",\"green\",\"green\",\"red\",\"red\",\"green\",\"red\",\"red\",\"green\",\"red\",\"red\",\"green\",\"red\",\"green\",\"green\",\"red\",\"red\",\"red\",\"green\",\"green\",\"green\",\"green\",\"green\",\"green\",\"green\",\"green\",\"red\",\"red\",\"red\",\"red\",\"red\",\"green\",\"green\",\"red\",\"red\",\"red\",\"green\",\"red\",\"red\",\"red\",\"green\",\"green\",\"red\",\"green\",\"green\",\"green\",\"red\",\"red\",\"green\",\"green\",\"green\",\"red\",\"red\",\"red\",\"red\",\"red\",\"green\",\"green\",\"green\",\"green\",\"red\",\"red\",\"red\",\"green\",\"red\",\"red\",\"green\",\"red\",\"green\",\"green\",\"green\",\"green\",\"green\",\"green\",\"red\",\"green\",\"green\",\"green\",\"green\",\"green\",\"red\",\"red\",\"red\",\"red\",\"red\",\"red\",\"red\",\"red\",\"green\",\"green\",\"green\",\"red\",\"red\",\"red\",\"green\",\"green\",\"red\",\"red\",\"green\",\"green\",\"green\",\"red\",\"green\",\"green\",\"green\",\"red\",\"red\",\"green\",\"red\",\"green\",\"green\",\"green\",\"red\",\"red\",\"red\",\"red\",\"red\",\"green\",\"green\",\"green\",\"green\",\"red\",\"green\",\"green\",\"red\",\"red\",\"red\",\"green\",\"red\",\"red\",\"green\",\"red\",\"green\",\"green\",\"green\",\"green\",\"red\",\"green\"]},\"mode\":\"markers\",\"x\":[118,107,104,110,103,115,109,101,102,108,106,111,112,109,104,105,107,106,110,102,107,114,116,119,119,120,109,98,93,99,97,103,118,114,112,110,106,105,105,108,110,105,107,117,113,110,114,119,110,111,98,100,116,112,110,103,102,99,99,104,100,101,105,107,111,112,114,107,109,115,118,112,111,108,106,114,112,99,95,93,105,120,110,115,115,103,106,107,108,109,106,97,98,97,99,100,100,120,119,113,107,105,106,104,112,110,111,117,116,103,108,109,107,110,105,106,102,104,99,104,117,119,106,108,106,100,113,112,112,118,114,105,105,112,113,109,103,100,116,109,110,118,115,120,112,113,105,114,116,106,114,116,112,105,108,109,105,104,106,100,103,99,109,105,111,110,102,102,97,99,101,117,110,113,111,111,119,110,108,102,104,107,100,110,106,113,107,118,115,112,111,110,114,118,109,107,105,106,104,107,103,110,120,120,105,99,99,102,106,104,108,110,120,119,117,116,112,109,110,104,103,110,113,109,105,99,110,110,112,111,104,106,107,100,113,111,112,114,104,100,101,103,115,114,107,110,105,104,110,111,104,99,100,115,114,110,99,100,102,119,108,104,103,111,110,102,105,107,113,108,105,96,95,99,100,110,113,101,103,102,102,110,106,111,112,116,118,114,104,109,105,102,99,98,101,100,107,120,114,112,106,108,105,107,106,109,110,112,108,110,104,108,107,100,105,104,101,99,111,113,106,104,107,102,104,116,100,101,112,96,113,105,106,108,107,111,110,118,108,107,107,110,106,103,96,98,97,94,99,101,107,110,100,102,98,106,109,104,105,107,110,116,115,103,102,114,104,98,92,98,103,110,119,109,105,101,96,100,98,99,104,105,110,100,113,117,101,105,97,108,102,106,112,104,111,110,107,116,103,117],\"y\":[337,324,316,322,314,330,321,308,302,323,325,327,328,307,311,314,317,319,318,303,312,325,328,334,336,340,322,298,295,310,300,327,338,340,331,320,299,300,304,307,308,316,313,332,326,322,329,339,321,327,313,312,334,324,322,320,316,298,300,311,309,307,304,315,325,325,327,316,318,328,332,336,321,314,314,329,327,301,296,294,312,340,320,322,340,319,315,317,314,316,318,299,298,301,303,304,306,331,332,323,322,312,314,317,326,316,329,338,331,304,305,321,301,320,311,310,299,290,296,327,335,334,310,308,301,300,323,319,326,333,339,303,309,323,333,314,312,316,326,318,329,332,331,340,325,320,315,326,339,311,334,332,321,324,326,312,315,309,306,297,315,298,318,317,329,322,302,313,293,311,312,334,322,323,321,320,329,319,309,307,300,305,299,314,316,327,317,335,331,324,324,323,322,336,316,307,306,310,311,313,317,315,340,334,298,295,315,310,305,301,325,328,338,333,331,330,322,321,324,312,313,316,324,308,305,296,306,312,318,324,313,319,312,304,330,326,325,329,310,299,296,317,324,325,314,328,316,311,324,321,320,316,318,335,321,307,309,324,326,331,327,312,308,324,325,313,312,314,327,308,306,299,294,312,315,322,329,320,308,304,311,317,312,321,340,331,336,324,314,313,307,300,302,312,316,317,310,320,330,305,309,319,322,323,313,321,323,325,312,308,320,328,311,301,305,308,298,300,324,327,317,323,314,305,315,326,299,295,324,297,327,311,308,319,312,325,319,332,323,324,312,326,308,305,295,316,304,299,302,313,318,325,303,300,297,317,327,301,314,321,322,334,338,306,313,330,320,311,298,301,310,324,336,321,315,304,297,290,303,311,322,319,324,300,340,335,302,307,296,320,314,318,326,317,329,324,325,330,312,333],\"type\":\"scatter\"}],                        {\"template\":{\"data\":{\"bar\":[{\"error_x\":{\"color\":\"#2a3f5f\"},\"error_y\":{\"color\":\"#2a3f5f\"},\"marker\":{\"line\":{\"color\":\"#E5ECF6\",\"width\":0.5},\"pattern\":{\"fillmode\":\"overlay\",\"size\":10,\"solidity\":0.2}},\"type\":\"bar\"}],\"barpolar\":[{\"marker\":{\"line\":{\"color\":\"#E5ECF6\",\"width\":0.5},\"pattern\":{\"fillmode\":\"overlay\",\"size\":10,\"solidity\":0.2}},\"type\":\"barpolar\"}],\"carpet\":[{\"aaxis\":{\"endlinecolor\":\"#2a3f5f\",\"gridcolor\":\"white\",\"linecolor\":\"white\",\"minorgridcolor\":\"white\",\"startlinecolor\":\"#2a3f5f\"},\"baxis\":{\"endlinecolor\":\"#2a3f5f\",\"gridcolor\":\"white\",\"linecolor\":\"white\",\"minorgridcolor\":\"white\",\"startlinecolor\":\"#2a3f5f\"},\"type\":\"carpet\"}],\"choropleth\":[{\"colorbar\":{\"outlinewidth\":0,\"ticks\":\"\"},\"type\":\"choropleth\"}],\"contour\":[{\"colorbar\":{\"outlinewidth\":0,\"ticks\":\"\"},\"colorscale\":[[0.0,\"#0d0887\"],[0.1111111111111111,\"#46039f\"],[0.2222222222222222,\"#7201a8\"],[0.3333333333333333,\"#9c179e\"],[0.4444444444444444,\"#bd3786\"],[0.5555555555555556,\"#d8576b\"],[0.6666666666666666,\"#ed7953\"],[0.7777777777777778,\"#fb9f3a\"],[0.8888888888888888,\"#fdca26\"],[1.0,\"#f0f921\"]],\"type\":\"contour\"}],\"contourcarpet\":[{\"colorbar\":{\"outlinewidth\":0,\"ticks\":\"\"},\"type\":\"contourcarpet\"}],\"heatmap\":[{\"colorbar\":{\"outlinewidth\":0,\"ticks\":\"\"},\"colorscale\":[[0.0,\"#0d0887\"],[0.1111111111111111,\"#46039f\"],[0.2222222222222222,\"#7201a8\"],[0.3333333333333333,\"#9c179e\"],[0.4444444444444444,\"#bd3786\"],[0.5555555555555556,\"#d8576b\"],[0.6666666666666666,\"#ed7953\"],[0.7777777777777778,\"#fb9f3a\"],[0.8888888888888888,\"#fdca26\"],[1.0,\"#f0f921\"]],\"type\":\"heatmap\"}],\"heatmapgl\":[{\"colorbar\":{\"outlinewidth\":0,\"ticks\":\"\"},\"colorscale\":[[0.0,\"#0d0887\"],[0.1111111111111111,\"#46039f\"],[0.2222222222222222,\"#7201a8\"],[0.3333333333333333,\"#9c179e\"],[0.4444444444444444,\"#bd3786\"],[0.5555555555555556,\"#d8576b\"],[0.6666666666666666,\"#ed7953\"],[0.7777777777777778,\"#fb9f3a\"],[0.8888888888888888,\"#fdca26\"],[1.0,\"#f0f921\"]],\"type\":\"heatmapgl\"}],\"histogram\":[{\"marker\":{\"pattern\":{\"fillmode\":\"overlay\",\"size\":10,\"solidity\":0.2}},\"type\":\"histogram\"}],\"histogram2d\":[{\"colorbar\":{\"outlinewidth\":0,\"ticks\":\"\"},\"colorscale\":[[0.0,\"#0d0887\"],[0.1111111111111111,\"#46039f\"],[0.2222222222222222,\"#7201a8\"],[0.3333333333333333,\"#9c179e\"],[0.4444444444444444,\"#bd3786\"],[0.5555555555555556,\"#d8576b\"],[0.6666666666666666,\"#ed7953\"],[0.7777777777777778,\"#fb9f3a\"],[0.8888888888888888,\"#fdca26\"],[1.0,\"#f0f921\"]],\"type\":\"histogram2d\"}],\"histogram2dcontour\":[{\"colorbar\":{\"outlinewidth\":0,\"ticks\":\"\"},\"colorscale\":[[0.0,\"#0d0887\"],[0.1111111111111111,\"#46039f\"],[0.2222222222222222,\"#7201a8\"],[0.3333333333333333,\"#9c179e\"],[0.4444444444444444,\"#bd3786\"],[0.5555555555555556,\"#d8576b\"],[0.6666666666666666,\"#ed7953\"],[0.7777777777777778,\"#fb9f3a\"],[0.8888888888888888,\"#fdca26\"],[1.0,\"#f0f921\"]],\"type\":\"histogram2dcontour\"}],\"mesh3d\":[{\"colorbar\":{\"outlinewidth\":0,\"ticks\":\"\"},\"type\":\"mesh3d\"}],\"parcoords\":[{\"line\":{\"colorbar\":{\"outlinewidth\":0,\"ticks\":\"\"}},\"type\":\"parcoords\"}],\"pie\":[{\"automargin\":true,\"type\":\"pie\"}],\"scatter\":[{\"marker\":{\"colorbar\":{\"outlinewidth\":0,\"ticks\":\"\"}},\"type\":\"scatter\"}],\"scatter3d\":[{\"line\":{\"colorbar\":{\"outlinewidth\":0,\"ticks\":\"\"}},\"marker\":{\"colorbar\":{\"outlinewidth\":0,\"ticks\":\"\"}},\"type\":\"scatter3d\"}],\"scattercarpet\":[{\"marker\":{\"colorbar\":{\"outlinewidth\":0,\"ticks\":\"\"}},\"type\":\"scattercarpet\"}],\"scattergeo\":[{\"marker\":{\"colorbar\":{\"outlinewidth\":0,\"ticks\":\"\"}},\"type\":\"scattergeo\"}],\"scattergl\":[{\"marker\":{\"colorbar\":{\"outlinewidth\":0,\"ticks\":\"\"}},\"type\":\"scattergl\"}],\"scattermapbox\":[{\"marker\":{\"colorbar\":{\"outlinewidth\":0,\"ticks\":\"\"}},\"type\":\"scattermapbox\"}],\"scatterpolar\":[{\"marker\":{\"colorbar\":{\"outlinewidth\":0,\"ticks\":\"\"}},\"type\":\"scatterpolar\"}],\"scatterpolargl\":[{\"marker\":{\"colorbar\":{\"outlinewidth\":0,\"ticks\":\"\"}},\"type\":\"scatterpolargl\"}],\"scatterternary\":[{\"marker\":{\"colorbar\":{\"outlinewidth\":0,\"ticks\":\"\"}},\"type\":\"scatterternary\"}],\"surface\":[{\"colorbar\":{\"outlinewidth\":0,\"ticks\":\"\"},\"colorscale\":[[0.0,\"#0d0887\"],[0.1111111111111111,\"#46039f\"],[0.2222222222222222,\"#7201a8\"],[0.3333333333333333,\"#9c179e\"],[0.4444444444444444,\"#bd3786\"],[0.5555555555555556,\"#d8576b\"],[0.6666666666666666,\"#ed7953\"],[0.7777777777777778,\"#fb9f3a\"],[0.8888888888888888,\"#fdca26\"],[1.0,\"#f0f921\"]],\"type\":\"surface\"}],\"table\":[{\"cells\":{\"fill\":{\"color\":\"#EBF0F8\"},\"line\":{\"color\":\"white\"}},\"header\":{\"fill\":{\"color\":\"#C8D4E3\"},\"line\":{\"color\":\"white\"}},\"type\":\"table\"}]},\"layout\":{\"annotationdefaults\":{\"arrowcolor\":\"#2a3f5f\",\"arrowhead\":0,\"arrowwidth\":1},\"autotypenumbers\":\"strict\",\"coloraxis\":{\"colorbar\":{\"outlinewidth\":0,\"ticks\":\"\"}},\"colorscale\":{\"diverging\":[[0,\"#8e0152\"],[0.1,\"#c51b7d\"],[0.2,\"#de77ae\"],[0.3,\"#f1b6da\"],[0.4,\"#fde0ef\"],[0.5,\"#f7f7f7\"],[0.6,\"#e6f5d0\"],[0.7,\"#b8e186\"],[0.8,\"#7fbc41\"],[0.9,\"#4d9221\"],[1,\"#276419\"]],\"sequential\":[[0.0,\"#0d0887\"],[0.1111111111111111,\"#46039f\"],[0.2222222222222222,\"#7201a8\"],[0.3333333333333333,\"#9c179e\"],[0.4444444444444444,\"#bd3786\"],[0.5555555555555556,\"#d8576b\"],[0.6666666666666666,\"#ed7953\"],[0.7777777777777778,\"#fb9f3a\"],[0.8888888888888888,\"#fdca26\"],[1.0,\"#f0f921\"]],\"sequentialminus\":[[0.0,\"#0d0887\"],[0.1111111111111111,\"#46039f\"],[0.2222222222222222,\"#7201a8\"],[0.3333333333333333,\"#9c179e\"],[0.4444444444444444,\"#bd3786\"],[0.5555555555555556,\"#d8576b\"],[0.6666666666666666,\"#ed7953\"],[0.7777777777777778,\"#fb9f3a\"],[0.8888888888888888,\"#fdca26\"],[1.0,\"#f0f921\"]]},\"colorway\":[\"#636efa\",\"#EF553B\",\"#00cc96\",\"#ab63fa\",\"#FFA15A\",\"#19d3f3\",\"#FF6692\",\"#B6E880\",\"#FF97FF\",\"#FECB52\"],\"font\":{\"color\":\"#2a3f5f\"},\"geo\":{\"bgcolor\":\"white\",\"lakecolor\":\"white\",\"landcolor\":\"#E5ECF6\",\"showlakes\":true,\"showland\":true,\"subunitcolor\":\"white\"},\"hoverlabel\":{\"align\":\"left\"},\"hovermode\":\"closest\",\"mapbox\":{\"style\":\"light\"},\"paper_bgcolor\":\"white\",\"plot_bgcolor\":\"#E5ECF6\",\"polar\":{\"angularaxis\":{\"gridcolor\":\"white\",\"linecolor\":\"white\",\"ticks\":\"\"},\"bgcolor\":\"#E5ECF6\",\"radialaxis\":{\"gridcolor\":\"white\",\"linecolor\":\"white\",\"ticks\":\"\"}},\"scene\":{\"xaxis\":{\"backgroundcolor\":\"#E5ECF6\",\"gridcolor\":\"white\",\"gridwidth\":2,\"linecolor\":\"white\",\"showbackground\":true,\"ticks\":\"\",\"zerolinecolor\":\"white\"},\"yaxis\":{\"backgroundcolor\":\"#E5ECF6\",\"gridcolor\":\"white\",\"gridwidth\":2,\"linecolor\":\"white\",\"showbackground\":true,\"ticks\":\"\",\"zerolinecolor\":\"white\"},\"zaxis\":{\"backgroundcolor\":\"#E5ECF6\",\"gridcolor\":\"white\",\"gridwidth\":2,\"linecolor\":\"white\",\"showbackground\":true,\"ticks\":\"\",\"zerolinecolor\":\"white\"}},\"shapedefaults\":{\"line\":{\"color\":\"#2a3f5f\"}},\"ternary\":{\"aaxis\":{\"gridcolor\":\"white\",\"linecolor\":\"white\",\"ticks\":\"\"},\"baxis\":{\"gridcolor\":\"white\",\"linecolor\":\"white\",\"ticks\":\"\"},\"bgcolor\":\"#E5ECF6\",\"caxis\":{\"gridcolor\":\"white\",\"linecolor\":\"white\",\"ticks\":\"\"}},\"title\":{\"x\":0.05},\"xaxis\":{\"automargin\":true,\"gridcolor\":\"white\",\"linecolor\":\"white\",\"ticks\":\"\",\"title\":{\"standoff\":15},\"zerolinecolor\":\"white\",\"zerolinewidth\":2},\"yaxis\":{\"automargin\":true,\"gridcolor\":\"white\",\"linecolor\":\"white\",\"ticks\":\"\",\"title\":{\"standoff\":15},\"zerolinecolor\":\"white\",\"zerolinewidth\":2}}}},                        {\"responsive\": true}                    ).then(function(){\n",
              "                            \n",
              "var gd = document.getElementById('c3d6201f-0819-46fc-8ce8-fdf46d5e0c8d');\n",
              "var x = new MutationObserver(function (mutations, observer) {{\n",
              "        var display = window.getComputedStyle(gd).display;\n",
              "        if (!display || display === 'none') {{\n",
              "            console.log([gd, 'removed!']);\n",
              "            Plotly.purge(gd);\n",
              "            observer.disconnect();\n",
              "        }}\n",
              "}});\n",
              "\n",
              "// Listen for the removal of the full notebook cells\n",
              "var notebookContainer = gd.closest('#notebook-container');\n",
              "if (notebookContainer) {{\n",
              "    x.observe(notebookContainer, {childList: true});\n",
              "}}\n",
              "\n",
              "// Listen for the clearing of the current output cell\n",
              "var outputEl = gd.closest('.output');\n",
              "if (outputEl) {{\n",
              "    x.observe(outputEl, {childList: true});\n",
              "}}\n",
              "\n",
              "                        })                };                            </script>        </div>\n",
              "</body>\n",
              "</html>"
            ]
          },
          "metadata": {}
        }
      ]
    },
    {
      "cell_type": "code",
      "source": [
        "scores=df[[\"TOEFL Score\",\"GRE Score\"]]\n",
        "results=df[\"Chance of admit\"]"
      ],
      "metadata": {
        "id": "IV336g5dHA1K"
      },
      "execution_count": 7,
      "outputs": []
    },
    {
      "cell_type": "code",
      "source": [
        "from sklearn.model_selection import train_test_split\n",
        "score_train,score_test,results_train,results_test=train_test_split(scores,results,test_size=0.25,random_state=0)\n",
        "print(score_train)"
      ],
      "metadata": {
        "colab": {
          "base_uri": "https://localhost:8080/"
        },
        "id": "kHuAIlwuHX7i",
        "outputId": "256920d0-9b59-425a-da33-9c2453928820"
      },
      "execution_count": 16,
      "outputs": [
        {
          "output_type": "stream",
          "name": "stdout",
          "text": [
            "     TOEFL Score  GRE Score\n",
            "250          104        320\n",
            "63           107        315\n",
            "312          107        311\n",
            "159          100        297\n",
            "283          111        321\n",
            "..           ...        ...\n",
            "323          102        305\n",
            "192          114        322\n",
            "117          104        290\n",
            "47           119        339\n",
            "172          110        322\n",
            "\n",
            "[300 rows x 2 columns]\n"
          ]
        }
      ]
    },
    {
      "cell_type": "code",
      "source": [
        "from sklearn.linear_model import LogisticRegression\n",
        "classifier=LogisticRegression(random_state=0)\n",
        "classifier.fit(score_train,results_train)\n",
        "results_pred=classifier.predict(score_test)\n",
        "from sklearn.metrics import accuracy_score\n",
        "print(\"Accuracy\",accuracy_score(results_test,results_pred))"
      ],
      "metadata": {
        "colab": {
          "base_uri": "https://localhost:8080/"
        },
        "id": "7ONwIGj9IFJ1",
        "outputId": "cb038a69-38ab-44c9-dd84-ae1130e6232e"
      },
      "execution_count": 9,
      "outputs": [
        {
          "output_type": "stream",
          "name": "stdout",
          "text": [
            "Accuracy 0.77\n"
          ]
        }
      ]
    },
    {
      "cell_type": "code",
      "source": [
        "from sklearn.preprocessing import StandardScaler\n",
        "sc=StandardScaler()\n",
        "score_train=sc.fit_transform(score_train)\n",
        "user_toefl_score=int(input(\"Enter the TOEFL score\"))\n",
        "user_gre_score=int(input(\"Enter the GRE Score\"))\n",
        "user_test=sc.transform([[user_toefl_score,user_gre_score]])\n",
        "user_result_pred=classifier.predict(user_test)\n",
        "if user_result_pred[0]==1:\n",
        "  print(\"This user may pass\")\n",
        "else:\n",
        "  print(\"This user may not pass\")"
      ],
      "metadata": {
        "colab": {
          "base_uri": "https://localhost:8080/"
        },
        "id": "19QOSva0IP85",
        "outputId": "99de44f0-4153-4fa1-fec6-5028921d1426"
      },
      "execution_count": 13,
      "outputs": [
        {
          "output_type": "stream",
          "name": "stdout",
          "text": [
            "Enter the TOEFL score67\n",
            "Enter the GRE Score43\n",
            "This user may not pass\n"
          ]
        },
        {
          "output_type": "stream",
          "name": "stderr",
          "text": [
            "/usr/local/lib/python3.7/dist-packages/sklearn/base.py:451: UserWarning:\n",
            "\n",
            "X does not have valid feature names, but StandardScaler was fitted with feature names\n",
            "\n",
            "/usr/local/lib/python3.7/dist-packages/sklearn/base.py:451: UserWarning:\n",
            "\n",
            "X does not have valid feature names, but LogisticRegression was fitted with feature names\n",
            "\n"
          ]
        }
      ]
    }
  ]
}