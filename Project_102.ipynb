{
  "nbformat": 4,
  "nbformat_minor": 0,
  "metadata": {
    "colab": {
      "name": "Project 102",
      "provenance": [],
      "authorship_tag": "ABX9TyOqfvl6293LYkrLJeqdjadm",
      "include_colab_link": true
    },
    "kernelspec": {
      "name": "python3",
      "display_name": "Python 3"
    },
    "language_info": {
      "name": "python"
    }
  },
  "cells": [
    {
      "cell_type": "markdown",
      "metadata": {
        "id": "view-in-github",
        "colab_type": "text"
      },
      "source": [
        "<a href=\"https://colab.research.google.com/github/KirillBalashov170108/34-project-uncompleted/blob/main/Project_102.ipynb\" target=\"_parent\"><img src=\"https://colab.research.google.com/assets/colab-badge.svg\" alt=\"Open In Colab\"/></a>"
      ]
    },
    {
      "cell_type": "code",
      "execution_count": null,
      "metadata": {
        "id": "wR7H3kn_rWsq"
      },
      "outputs": [],
      "source": [
        "import cv2\n",
        "import dropbox\n",
        "import time\n",
        "import random\n",
        "\n",
        "def take_Snapshot():\n",
        "  number=random.randint(0,100)\n",
        "  videocaptureobject=cv2.VideoCapture(0)\n",
        "  result=True\n",
        "  while(result):\n",
        "    ret,frame=videocaptureobject.read()\n",
        "    img_name=\"img\"+str(number)+\".png\"\n",
        "    cv2.imwrite(img_name,frame)\n",
        "    start_time=time.time()\n",
        "    result=False\n",
        "  return img_name\n",
        "  print(\"Snapshot has been taken\")\n",
        "  videocaptureobject.release()\n",
        "  cv2.destroyAllWindows()\n",
        "\n",
        "def upload_Files(img_name):\n",
        "  access_token=\"\"\n",
        "  file=img_name\n",
        "  file_from=file\n",
        "  file_to=\"https://www.dropbox.com/sh/8zaaklbbux8nksc/AAAyWiB9v22tOJjRtl4HansKa?dl=0\"\n",
        "  dbx=dropbox.Dropbox(access_token)\n",
        "  with open(file_from,'rb') as f:\n",
        "    dbx.files_upload(f.read(),file_to,mode=dropbox.files.WriteMode.overwrite)\n",
        "    print(\"File Uploaded\")\n"
      ]
    }
  ]
}