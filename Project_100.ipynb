{
  "nbformat": 4,
  "nbformat_minor": 0,
  "metadata": {
    "colab": {
      "name": "Project 100",
      "provenance": [],
      "authorship_tag": "ABX9TyP5FzhreUjMH8W7ZEV1ytS5",
      "include_colab_link": true
    },
    "kernelspec": {
      "name": "python3",
      "display_name": "Python 3"
    },
    "language_info": {
      "name": "python"
    }
  },
  "cells": [
    {
      "cell_type": "markdown",
      "metadata": {
        "id": "view-in-github",
        "colab_type": "text"
      },
      "source": [
        "<a href=\"https://colab.research.google.com/github/KirillBalashov170108/34-project-uncompleted/blob/main/Project_100.ipynb\" target=\"_parent\"><img src=\"https://colab.research.google.com/assets/colab-badge.svg\" alt=\"Open In Colab\"/></a>"
      ]
    },
    {
      "cell_type": "code",
      "execution_count": null,
      "metadata": {
        "id": "-sqACK1T4m6I"
      },
      "outputs": [],
      "source": [
        "class Atm:\n",
        "    def __init__(self,cardnumber,pin):\n",
        "        self.cardnumber = cardnumber\n",
        "        self.pin = pin\n",
        "\n",
        "    def check_balance(self):\n",
        "        print(\"Your balance is 50000\")\n",
        "\n",
        "    def withdrawl(self,amount):\n",
        "        new_amount = 50000 - amount\n",
        "        print(\"you have withdrawn amount \"+str(amount) +\". Your remaining balance is \"+ str(new_amount))\n",
        "\n",
        "\n",
        "def main():\n",
        "    Card_number = input(\"insert your card number:- \")\n",
        "    pin_number  = input(\"enter your pin number:- \")\n",
        "\n",
        "    new_user =  Atm(Card_number ,pin_number)\n",
        "\n",
        "    print(\"Choose your activity \")\n",
        "    print(\"1.Balance Enquriy   2.withdrawl\")\n",
        "    activity = int(input(\"enter activity number :- \"))\n",
        "\n",
        "    if (activity == 1):\n",
        "        new_user.check_balance()\n",
        "    elif (activity == 2):\n",
        "        amount = int(input(\"enter the amount:- \"))\n",
        "        new_user.withdrawl(amount)\n",
        "    else:\n",
        "        print(\"enter a valid number\")\n",
        "\n",
        "\n",
        "if __name__ == \"__main__\":\n",
        "    main()"
      ]
    }
  ]
}