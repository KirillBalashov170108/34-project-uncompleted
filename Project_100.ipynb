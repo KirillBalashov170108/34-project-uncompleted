{
  "nbformat": 4,
  "nbformat_minor": 0,
  "metadata": {
    "colab": {
      "name": "Project 100",
      "provenance": [],
      "authorship_tag": "ABX9TyNR2Hj5Z14WSb+igp0A5OpP",
      "include_colab_link": true
    },
    "kernelspec": {
      "name": "python3",
      "display_name": "Python 3"
    },
    "language_info": {
      "name": "python"
    }
  },
  "cells": [
    {
      "cell_type": "markdown",
      "metadata": {
        "id": "view-in-github",
        "colab_type": "text"
      },
      "source": [
        "<a href=\"https://colab.research.google.com/github/KirillBalashov170108/34-project-uncompleted/blob/main/Project_100.ipynb\" target=\"_parent\"><img src=\"https://colab.research.google.com/assets/colab-badge.svg\" alt=\"Open In Colab\"/></a>"
      ]
    },
    {
      "cell_type": "code",
      "execution_count": 9,
      "metadata": {
        "colab": {
          "base_uri": "https://localhost:8080/",
          "height": 329
        },
        "id": "Uti2JBljpwqx",
        "outputId": "df0b8d71-5cec-484e-9016-be3b71ed7e75"
      },
      "outputs": [
        {
          "output_type": "error",
          "ename": "TypeError",
          "evalue": "ignored",
          "traceback": [
            "\u001b[0;31m---------------------------------------------------------------------------\u001b[0m",
            "\u001b[0;31mTypeError\u001b[0m                                 Traceback (most recent call last)",
            "\u001b[0;32m<ipython-input-9-b6c9e5ce0eec>\u001b[0m in \u001b[0;36m<module>\u001b[0;34m()\u001b[0m\n\u001b[1;32m     14\u001b[0m \u001b[0mKirill\u001b[0m\u001b[0;34m=\u001b[0m\u001b[0mSmirill\u001b[0m\u001b[0;34m(\u001b[0m\u001b[0;34m\"Kirill\"\u001b[0m\u001b[0;34m,\u001b[0m\u001b[0;36m14\u001b[0m\u001b[0;34m,\u001b[0m\u001b[0;34m{\u001b[0m\u001b[0;34m\"coding\"\u001b[0m\u001b[0;34m:\u001b[0m\u001b[0;36m5.5\u001b[0m\u001b[0;34m}\u001b[0m\u001b[0;34m)\u001b[0m\u001b[0;34m\u001b[0m\u001b[0;34m\u001b[0m\u001b[0m\n\u001b[1;32m     15\u001b[0m \u001b[0;34m\u001b[0m\u001b[0m\n\u001b[0;32m---> 16\u001b[0;31m \u001b[0mprint\u001b[0m\u001b[0;34m(\u001b[0m\u001b[0mSmita\u001b[0m\u001b[0;34m.\u001b[0m\u001b[0mgetGrade\u001b[0m\u001b[0;34m(\u001b[0m\u001b[0;34m[\u001b[0m\u001b[0;34m\"coding\"\u001b[0m\u001b[0;34m]\u001b[0m\u001b[0;34m)\u001b[0m\u001b[0;34m)\u001b[0m\u001b[0;34m\u001b[0m\u001b[0;34m\u001b[0m\u001b[0m\n\u001b[0m",
            "\u001b[0;32m<ipython-input-9-b6c9e5ce0eec>\u001b[0m in \u001b[0;36mgetGrade\u001b[0;34m(self, course)\u001b[0m\n\u001b[1;32m      9\u001b[0m \u001b[0;34m\u001b[0m\u001b[0m\n\u001b[1;32m     10\u001b[0m   \u001b[0;32mdef\u001b[0m \u001b[0mgetGrade\u001b[0m\u001b[0;34m(\u001b[0m\u001b[0mself\u001b[0m\u001b[0;34m,\u001b[0m\u001b[0mcourse\u001b[0m\u001b[0;34m)\u001b[0m\u001b[0;34m:\u001b[0m\u001b[0;34m\u001b[0m\u001b[0;34m\u001b[0m\u001b[0m\n\u001b[0;32m---> 11\u001b[0;31m     \u001b[0;32mreturn\u001b[0m \u001b[0mself\u001b[0m\u001b[0;34m.\u001b[0m\u001b[0mgrades\u001b[0m\u001b[0;34m[\u001b[0m\u001b[0mcourse\u001b[0m\u001b[0;34m]\u001b[0m\u001b[0;34m\u001b[0m\u001b[0;34m\u001b[0m\u001b[0m\n\u001b[0m\u001b[1;32m     12\u001b[0m \u001b[0;34m\u001b[0m\u001b[0m\n\u001b[1;32m     13\u001b[0m \u001b[0mSmita\u001b[0m\u001b[0;34m=\u001b[0m\u001b[0mSmirill\u001b[0m\u001b[0;34m(\u001b[0m\u001b[0;34m\"Smita\"\u001b[0m\u001b[0;34m,\u001b[0m\u001b[0;36m35\u001b[0m\u001b[0;34m,\u001b[0m\u001b[0;34m{\u001b[0m\u001b[0;34m\"coding\"\u001b[0m\u001b[0;34m:\u001b[0m\u001b[0;36m5.5\u001b[0m\u001b[0;34m}\u001b[0m\u001b[0;34m)\u001b[0m\u001b[0;34m\u001b[0m\u001b[0;34m\u001b[0m\u001b[0m\n",
            "\u001b[0;31mTypeError\u001b[0m: unhashable type: 'list'"
          ]
        }
      ],
      "source": [
        "class Smirill(object):\n",
        "  def __init__(self,name,age,grades=None):\n",
        "    self.name=name\n",
        "    self.age=name\n",
        "    self.grades=grades or {}\n",
        "\n",
        "  def settheGrade(self,course,grade):\n",
        "    self.grades[course]=grade\n",
        "    \n",
        "  def getGrade(self,course):\n",
        "    return self.grades[course]\n",
        "\n",
        "Smita=Smirill(\"Smita\",35,{\"coding\":5.5})\n",
        "Kirill=Smirill(\"Kirill\",14,{\"coding\":5.5})\n",
        "\n",
        "print(Smita.getGrade([\"coding\"]))"
      ]
    },
    {
      "cell_type": "code",
      "source": [
        ""
      ],
      "metadata": {
        "id": "YJ72_zMLrVEe"
      },
      "execution_count": null,
      "outputs": []
    }
  ]
}