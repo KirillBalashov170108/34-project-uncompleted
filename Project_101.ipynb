{
  "nbformat": 4,
  "nbformat_minor": 0,
  "metadata": {
    "colab": {
      "name": "Project 101",
      "provenance": [],
      "authorship_tag": "ABX9TyOdkTLH8mxFeTkZP02dh/k4",
      "include_colab_link": true
    },
    "kernelspec": {
      "name": "python3",
      "display_name": "Python 3"
    },
    "language_info": {
      "name": "python"
    }
  },
  "cells": [
    {
      "cell_type": "markdown",
      "metadata": {
        "id": "view-in-github",
        "colab_type": "text"
      },
      "source": [
        "<a href=\"https://colab.research.google.com/github/KirillBalashov170108/34-project-uncompleted/blob/main/Project_101.ipynb\" target=\"_parent\"><img src=\"https://colab.research.google.com/assets/colab-badge.svg\" alt=\"Open In Colab\"/></a>"
      ]
    },
    {
      "cell_type": "code",
      "execution_count": null,
      "metadata": {
        "id": "ecifD-tU5d9T"
      },
      "outputs": [],
      "source": [
        "import os\n",
        "import dropbox\n",
        "from dropbox.files import WriteMode\n",
        "#\n",
        "class TransferData:\n",
        "    def __init__(self,access_token):\n",
        "        self.access_token =  access_token\n",
        "#\n",
        "    def upload_file(self, file_from, file_to):\n",
        "        dbx = dropbox.Dropbox(self.access_token)\n",
        "\n",
        "            # enumerate local files recursively\n",
        "        for root, dirs, files in os.walk(file_from):\n",
        "\n",
        "            for filename in files:\n",
        "                    # construct the full local path\n",
        "                local_path = os.path.join(root, filename)\n",
        "\n",
        "                    # construct the full Dropbox path\n",
        "                relative_path = os.path.relpath(local_path, file_from)\n",
        "                dropbox_path = os.path.join(file_to, relative_path)\n",
        "                    # upload the file\n",
        "                with open(local_path, 'rb') as f:\n",
        "                    dbx.files_upload(f.read(), dropbox_path, mode=WriteMode('overwrite'))\n",
        "\n",
        "def main():\n",
        "    access_token = 'riFu6Ybhc9AAAAAAAAAAHWkfE9AiGyD6n4254tOxesw7ShRjGjFhrjhRVa3NX3mx'\n",
        "    transferData = TransferData(access_token)\n",
        "\n",
        "    file_from = str(input(\"Enter the folder path to transfer : -\"))\n",
        "    file_to = input(\"enter the full path to upload to dropbox:- \")  # This is the full path to upload the file to, including name that you wish the file to be called once uploaded.\n",
        "\n",
        "    # API v2\n",
        "    transferData.upload_file(file_from,file_to)\n",
        "    print(\"file has been moved !!!\")\n",
        "\n",
        "main()"
      ]
    }
  ]
}